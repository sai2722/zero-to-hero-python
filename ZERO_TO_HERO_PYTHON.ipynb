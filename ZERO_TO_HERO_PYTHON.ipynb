{
  "nbformat": 4,
  "nbformat_minor": 0,
  "metadata": {
    "colab": {
      "name": "ZERO TO HERO PYTHON.ipynb",
      "provenance": [],
      "collapsed_sections": [],
      "authorship_tag": "ABX9TyM9tSXcvjGqySs0qYLPVGID",
      "include_colab_link": true
    },
    "kernelspec": {
      "name": "python3",
      "display_name": "Python 3"
    },
    "language_info": {
      "name": "python"
    }
  },
  "cells": [
    {
      "cell_type": "markdown",
      "metadata": {
        "id": "view-in-github",
        "colab_type": "text"
      },
      "source": [
        "<a href=\"https://colab.research.google.com/github/sai2722/zero-to-hero-python/blob/main/ZERO_TO_HERO_PYTHON.ipynb\" target=\"_parent\"><img src=\"https://colab.research.google.com/assets/colab-badge.svg\" alt=\"Open In Colab\"/></a>"
      ]
    },
    {
      "cell_type": "code",
      "metadata": {
        "colab": {
          "base_uri": "https://localhost:8080/"
        },
        "id": "35fG-F3LcrLI",
        "outputId": "e95117a9-5ea2-48d6-eee3-728921b9d509"
      },
      "source": [
        "print('Helllo Coders')"
      ],
      "execution_count": null,
      "outputs": [
        {
          "output_type": "stream",
          "text": [
            "Helllo Coders\n"
          ],
          "name": "stdout"
        }
      ]
    },
    {
      "cell_type": "code",
      "metadata": {
        "colab": {
          "base_uri": "https://localhost:8080/"
        },
        "id": "xbn0TRnQdBm3",
        "outputId": "58c59897-8cba-44f3-bbc1-805b9b647d85"
      },
      "source": [
        "a = 20\n",
        "#Dynamically typed Language\n",
        "\n",
        "print(a)\n",
        "print('a')\n",
        "\n"
      ],
      "execution_count": null,
      "outputs": [
        {
          "output_type": "stream",
          "text": [
            "20\n",
            "a\n"
          ],
          "name": "stdout"
        }
      ]
    },
    {
      "cell_type": "code",
      "metadata": {
        "colab": {
          "base_uri": "https://localhost:8080/"
        },
        "id": "G4R7tCVZdS8f",
        "outputId": "c519b4ce-139b-43a0-eb6b-ba9abb4d6552"
      },
      "source": [
        "#Dynamically typed language\n",
        "\n",
        "x =20\n",
        "print(type(x))\n",
        "x= 8.65\n",
        "print(type(x))\n",
        " "
      ],
      "execution_count": null,
      "outputs": [
        {
          "output_type": "stream",
          "text": [
            "<class 'int'>\n",
            "<class 'float'>\n"
          ],
          "name": "stdout"
        }
      ]
    },
    {
      "cell_type": "code",
      "metadata": {
        "colab": {
          "base_uri": "https://localhost:8080/"
        },
        "id": "InOn2AnCeD81",
        "outputId": "0caec9e5-2110-482b-dafb-a90b9077b046"
      },
      "source": [
        "x = 'Simran'\n",
        "print(type(x))"
      ],
      "execution_count": null,
      "outputs": [
        {
          "output_type": "stream",
          "text": [
            "<class 'str'>\n"
          ],
          "name": "stdout"
        }
      ]
    },
    {
      "cell_type": "code",
      "metadata": {
        "colab": {
          "base_uri": "https://localhost:8080/"
        },
        "id": "WbKGOWj1fJuW",
        "outputId": "31a0e83a-577e-4788-bd2e-22d4083dc699"
      },
      "source": [
        "x ='s'\n",
        "y ='$'\n",
        "print(type(x))\n",
        "print(type(y))"
      ],
      "execution_count": null,
      "outputs": [
        {
          "output_type": "stream",
          "text": [
            "<class 'str'>\n",
            "<class 'str'>\n"
          ],
          "name": "stdout"
        }
      ]
    },
    {
      "cell_type": "code",
      "metadata": {
        "colab": {
          "base_uri": "https://localhost:8080/"
        },
        "id": "HZLr8TM-ftXY",
        "outputId": "16f2b038-b6b3-4399-a406-f83fc9fc2f2e"
      },
      "source": [
        "# Aman's Goggle is cool\n",
        "print(\"Aman's goggle is cool\")"
      ],
      "execution_count": null,
      "outputs": [
        {
          "output_type": "stream",
          "text": [
            "Aman's goggle is cool\n"
          ],
          "name": "stdout"
        }
      ]
    },
    {
      "cell_type": "code",
      "metadata": {
        "colab": {
          "base_uri": "https://localhost:8080/"
        },
        "id": "5QA1VcBahyZG",
        "outputId": "faf0ad40-7bc2-41ca-8bfb-fb5187112274"
      },
      "source": [
        " a = 10\n",
        " b = 20\n",
        " print (id(a))\n",
        " print (id(b))"
      ],
      "execution_count": null,
      "outputs": [
        {
          "output_type": "stream",
          "text": [
            "94828820265760\n",
            "94828820266080\n"
          ],
          "name": "stdout"
        }
      ]
    },
    {
      "cell_type": "code",
      "metadata": {
        "colab": {
          "base_uri": "https://localhost:8080/"
        },
        "id": "LMM5zN-7hqht",
        "outputId": "7ac165fb-18ff-479f-e028-479bd405d5bb"
      },
      "source": [
        "a = b = c =10\n",
        "print(a)\n",
        "print(b)\n",
        "print(c)"
      ],
      "execution_count": null,
      "outputs": [
        {
          "output_type": "stream",
          "text": [
            "10\n",
            "10\n",
            "10\n"
          ],
          "name": "stdout"
        }
      ]
    },
    {
      "cell_type": "code",
      "metadata": {
        "colab": {
          "base_uri": "https://localhost:8080/"
        },
        "id": "EDKdMiqUiZv1",
        "outputId": "d7ff15db-8d68-410c-ae51-56a145ffdbfd"
      },
      "source": [
        "a = b = c = 10\n",
        "print(a, end =' ')\n",
        "print(b, end =' ')\n",
        "print(c)"
      ],
      "execution_count": null,
      "outputs": [
        {
          "output_type": "stream",
          "text": [
            "10 10 10\n"
          ],
          "name": "stdout"
        }
      ]
    },
    {
      "cell_type": "code",
      "metadata": {
        "colab": {
          "base_uri": "https://localhost:8080/"
        },
        "id": "betMVW88i3gD",
        "outputId": "125199d8-bd15-4a58-f870-11eaf884f8b9"
      },
      "source": [
        "print(a, b, c)"
      ],
      "execution_count": null,
      "outputs": [
        {
          "output_type": "stream",
          "text": [
            "10 10 10\n"
          ],
          "name": "stdout"
        }
      ]
    },
    {
      "cell_type": "code",
      "metadata": {
        "id": "jwuzWWFojCsi"
      },
      "source": [
        "a, b ,c =10, 20 ,30"
      ],
      "execution_count": null,
      "outputs": []
    },
    {
      "cell_type": "code",
      "metadata": {
        "colab": {
          "base_uri": "https://localhost:8080/"
        },
        "id": "5DXaxlwzjLuw",
        "outputId": "ff50e3b9-7625-4669-bfc4-8b7a042831ab"
      },
      "source": [
        "print(a ,b ,c)"
      ],
      "execution_count": null,
      "outputs": [
        {
          "output_type": "stream",
          "text": [
            "8 9 30\n"
          ],
          "name": "stdout"
        }
      ]
    },
    {
      "cell_type": "code",
      "metadata": {
        "colab": {
          "base_uri": "https://localhost:8080/"
        },
        "id": "EEp80owojRUp",
        "outputId": "ccb65e5b-dead-435d-d357-872d4816f1ae"
      },
      "source": [
        "#input\n",
        "# Adding two values \n",
        "\n",
        "a = input('Enter first value:')\n",
        "b = input('Enter the second value :')\n",
        "\n",
        "print(a+b)\n",
        "print('8'+'9')"
      ],
      "execution_count": null,
      "outputs": [
        {
          "output_type": "stream",
          "text": [
            "Enter first value:8\n",
            "Enter the second value :9\n",
            "89\n",
            "89\n"
          ],
          "name": "stdout"
        }
      ]
    },
    {
      "cell_type": "code",
      "metadata": {
        "colab": {
          "base_uri": "https://localhost:8080/"
        },
        "id": "SUytOgg6jzoP",
        "outputId": "8600c653-9478-4e30-a1ac-d773778082fc"
      },
      "source": [
        "a = int(input('Enter First Value: '))\n",
        "b = int(input('Enter the second value:'))\n",
        "\n",
        "print('sum', a+b)"
      ],
      "execution_count": null,
      "outputs": [
        {
          "output_type": "stream",
          "text": [
            "Enter First Value: 45\n",
            "Enter the second value:65\n",
            "sum 110\n"
          ],
          "name": "stdout"
        }
      ]
    },
    {
      "cell_type": "code",
      "metadata": {
        "id": "y2jNEh3tksCR"
      },
      "source": [
        ""
      ],
      "execution_count": null,
      "outputs": []
    },
    {
      "cell_type": "code",
      "metadata": {
        "colab": {
          "base_uri": "https://localhost:8080/"
        },
        "id": "T5Ekt6--lUsU",
        "outputId": "2d0e7df8-786c-41a9-9a9a-3580cb8ed5d7"
      },
      "source": [
        "a = int(input('Enter First Value: '))\n",
        "b = int(input('Enter the second value:'))\n",
        "res = a+b\n",
        "print(f'sum', {res})"
      ],
      "execution_count": null,
      "outputs": [
        {
          "output_type": "stream",
          "text": [
            "Enter First Value: 45\n",
            "Enter the second value:55\n",
            "sum {100}\n"
          ],
          "name": "stdout"
        }
      ]
    },
    {
      "cell_type": "code",
      "metadata": {
        "colab": {
          "base_uri": "https://localhost:8080/"
        },
        "id": "j8ByvRUjlnU9",
        "outputId": "61e2ccf2-88f3-4fb1-f7e4-fd17341a2e25"
      },
      "source": [
        "a = b = c = 10\n",
        "print(id(a), id(b), id(c))"
      ],
      "execution_count": null,
      "outputs": [
        {
          "output_type": "stream",
          "text": [
            "94828820265760 94828820265760 94828820265760\n"
          ],
          "name": "stdout"
        }
      ]
    },
    {
      "cell_type": "code",
      "metadata": {
        "colab": {
          "base_uri": "https://localhost:8080/"
        },
        "id": "UtyL6jxMmRGj",
        "outputId": "8152160a-21b3-4513-8e95-28d0d49b8c1d"
      },
      "source": [
        "\n",
        "# list\n",
        "\n",
        "li = [10,20,30,40,50]\n",
        "print(type(li))"
      ],
      "execution_count": null,
      "outputs": [
        {
          "output_type": "stream",
          "text": [
            "<class 'list'>\n"
          ],
          "name": "stdout"
        }
      ]
    },
    {
      "cell_type": "code",
      "metadata": {
        "colab": {
          "base_uri": "https://localhost:8080/"
        },
        "id": "KUp9uaubnyif",
        "outputId": "c4c183fb-66f2-4ed4-9237-d235b87e7d3c"
      },
      "source": [
        "li = [5,10.5, 'hello', \"coders\" ,12+5j]\n",
        "print(li)"
      ],
      "execution_count": null,
      "outputs": [
        {
          "output_type": "stream",
          "text": [
            "[5, 10.5, 'hello', 'coders', (12+5j)]\n"
          ],
          "name": "stdout"
        }
      ]
    },
    {
      "cell_type": "code",
      "metadata": {
        "colab": {
          "base_uri": "https://localhost:8080/"
        },
        "id": "8DxcFH9CoYVV",
        "outputId": "c2280271-c433-4eb6-cc11-511f666c85d7"
      },
      "source": [
        "print(li[0])\n",
        "print(li[1])"
      ],
      "execution_count": null,
      "outputs": [
        {
          "output_type": "stream",
          "text": [
            "5\n",
            "10.5\n"
          ],
          "name": "stdout"
        }
      ]
    },
    {
      "cell_type": "code",
      "metadata": {
        "colab": {
          "base_uri": "https://localhost:8080/"
        },
        "id": "n2rewpC8oqGK",
        "outputId": "f8e007c2-eaae-4171-aba6-18ba1003f4bc"
      },
      "source": [
        "li = [5,8,2,3,4,1]\n",
        "print(li)\n",
        "\n",
        "print (5 in li)\n",
        "print (10 in li)"
      ],
      "execution_count": null,
      "outputs": [
        {
          "output_type": "stream",
          "text": [
            "[5, 8, 2, 3, 4, 1]\n",
            "True\n",
            "False\n"
          ],
          "name": "stdout"
        }
      ]
    },
    {
      "cell_type": "code",
      "metadata": {
        "colab": {
          "base_uri": "https://localhost:8080/"
        },
        "id": "U0zL_ZveozMd",
        "outputId": "7f0b41ff-f7d5-42d8-810f-e93f4d80a7c8"
      },
      "source": [
        "li = [1,2,3]\n",
        "print(li*4)"
      ],
      "execution_count": null,
      "outputs": [
        {
          "output_type": "stream",
          "text": [
            "[1, 2, 3, 1, 2, 3, 1, 2, 3, 1, 2, 3]\n"
          ],
          "name": "stdout"
        }
      ]
    },
    {
      "cell_type": "code",
      "metadata": {
        "colab": {
          "base_uri": "https://localhost:8080/"
        },
        "id": "jJ-IOv5TphpN",
        "outputId": "f48e2e10-54c6-44ae-a3d4-f7b79df1b48b"
      },
      "source": [
        "li1 = [1 ,2 ,3]\n",
        "li2 = [4 ,5 ,6]\n",
        "\n",
        "print(li1 + li2)"
      ],
      "execution_count": null,
      "outputs": [
        {
          "output_type": "stream",
          "text": [
            "[1, 2, 3, 4, 5, 6]\n"
          ],
          "name": "stdout"
        }
      ]
    },
    {
      "cell_type": "code",
      "metadata": {
        "colab": {
          "base_uri": "https://localhost:8080/"
        },
        "id": "jkDYIwsEqDYe",
        "outputId": "d235d0c9-53eb-4ab6-8a0d-b9d600a4337f"
      },
      "source": [
        "li = [1,2,3]\n",
        "for i in li:\n",
        "  print (i)"
      ],
      "execution_count": null,
      "outputs": [
        {
          "output_type": "stream",
          "text": [
            "1\n",
            "2\n",
            "3\n"
          ],
          "name": "stdout"
        }
      ]
    },
    {
      "cell_type": "code",
      "metadata": {
        "colab": {
          "base_uri": "https://localhost:8080/"
        },
        "id": "dAi-3JQkqhvK",
        "outputId": "6e24a0dc-66ed-4e8e-e3d4-dc004cbf1f09"
      },
      "source": [
        "# list is mutable\n",
        "li = [1,2,3,4,6]\n",
        "print (li)\n",
        "\n",
        "li[0] = 10\n",
        "print(li)"
      ],
      "execution_count": null,
      "outputs": [
        {
          "output_type": "stream",
          "text": [
            "[1, 2, 3, 4, 6]\n",
            "[10, 2, 3, 4, 6]\n"
          ],
          "name": "stdout"
        }
      ]
    },
    {
      "cell_type": "code",
      "metadata": {
        "colab": {
          "base_uri": "https://localhost:8080/"
        },
        "id": "yY28DDH-rs07",
        "outputId": "d4c83f91-6210-46be-ec3f-146fd1c21ece"
      },
      "source": [
        "x = int(input(\"Enter a number:\"))\n",
        "y = int(input(\"Enter another number:\"))\n",
        "p = (pow(x,y))\n",
        "print(p)\n",
        "\n"
      ],
      "execution_count": null,
      "outputs": [
        {
          "output_type": "stream",
          "text": [
            "Enter a number:6\n",
            "Enter another number:2\n",
            "36\n"
          ],
          "name": "stdout"
        }
      ]
    },
    {
      "cell_type": "code",
      "metadata": {
        "id": "frybY7xjNTFN"
      },
      "source": [
        ""
      ],
      "execution_count": null,
      "outputs": []
    }
  ]
}